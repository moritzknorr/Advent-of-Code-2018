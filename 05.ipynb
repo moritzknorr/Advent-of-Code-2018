{
 "cells": [
  {
   "cell_type": "code",
   "execution_count": 118,
   "metadata": {},
   "outputs": [],
   "source": [
    "import sys\n",
    "import datetime\n",
    "path = '05_input.txt'"
   ]
  },
  {
   "cell_type": "code",
   "execution_count": 130,
   "metadata": {},
   "outputs": [],
   "source": [
    "lines = []\n",
    "with open(path, 'r') as file:\n",
    "    polymer = file.read()"
   ]
  },
  {
   "cell_type": "code",
   "execution_count": 129,
   "metadata": {},
   "outputs": [],
   "source": [
    "polymer = 'dabAcCaCBAcCcaDA'"
   ]
  },
  {
   "cell_type": "code",
   "execution_count": 131,
   "metadata": {},
   "outputs": [],
   "source": [
    "def polymerReaction(polymer):\n",
    "    polymer = list(polymer)\n",
    "    for i in range(len(polymer)-1):\n",
    "        current = polymer[i]\n",
    "        next = polymer[i+1]\n",
    "        if current == None:\n",
    "            continue\n",
    "        if current.lower() == next.lower() and current != next:\n",
    "            polymer[i] = None\n",
    "            polymer[i+1] = None\n",
    "    polymer = list(filter(lambda x: x!= None, polymer))\n",
    "    polymer = ''.join(polymer)\n",
    "    return polymer"
   ]
  },
  {
   "cell_type": "code",
   "execution_count": 132,
   "metadata": {},
   "outputs": [],
   "source": [
    "polymerOld = ''\n",
    "while True:\n",
    "    polymer = polymerReaction(polymer)\n",
    "    if polymer == polymerOld:\n",
    "        break\n",
    "    polymerOld = polymer"
   ]
  },
  {
   "cell_type": "code",
   "execution_count": 137,
   "metadata": {},
   "outputs": [
    {
     "name": "stdout",
     "output_type": "stream",
     "text": [
      "10250\n"
     ]
    }
   ],
   "source": [
    "print(len(polymer)-1)"
   ]
  }
 ],
 "metadata": {
  "kernelspec": {
   "display_name": "Python 3",
   "language": "python",
   "name": "python3"
  },
  "language_info": {
   "codemirror_mode": {
    "name": "ipython",
    "version": 3
   },
   "file_extension": ".py",
   "mimetype": "text/x-python",
   "name": "python",
   "nbconvert_exporter": "python",
   "pygments_lexer": "ipython3",
   "version": "3.6.7"
  }
 },
 "nbformat": 4,
 "nbformat_minor": 2
}
