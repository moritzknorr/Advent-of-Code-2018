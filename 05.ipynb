{
 "cells": [
  {
   "cell_type": "code",
   "execution_count": 2,
   "metadata": {},
   "outputs": [],
   "source": [
    "import sys\n",
    "import datetime\n",
    "path = '05_input.txt'"
   ]
  },
  {
   "cell_type": "code",
   "execution_count": 30,
   "metadata": {},
   "outputs": [],
   "source": [
    "lines = []\n",
    "with open(path, 'r') as file:\n",
    "    polymer = file.read()"
   ]
  },
  {
   "cell_type": "code",
   "execution_count": 11,
   "metadata": {},
   "outputs": [],
   "source": [
    "polymer = 'dabAcCaCBAcCcaDA'"
   ]
  },
  {
   "cell_type": "code",
   "execution_count": 5,
   "metadata": {},
   "outputs": [],
   "source": [
    "def polymerReaction(polymer):\n",
    "    polymer = list(polymer)\n",
    "    for i in range(len(polymer)-1):\n",
    "        current = polymer[i]\n",
    "        next = polymer[i+1]\n",
    "        if current == None:\n",
    "            continue\n",
    "        if current.lower() == next.lower() and current != next:\n",
    "            polymer[i] = None\n",
    "            polymer[i+1] = None\n",
    "    polymer = list(filter(lambda x: x!= None, polymer))\n",
    "    polymer = ''.join(polymer)\n",
    "    return polymer"
   ]
  },
  {
   "cell_type": "code",
   "execution_count": 25,
   "metadata": {},
   "outputs": [],
   "source": [
    "def polymerReactionLength(polymer, letter='#'):\n",
    "    polymer = polymer.replace(letter.lower(), '')\n",
    "    polymer = polymer.replace(letter.upper(), '')\n",
    "    polymerOld = ''\n",
    "    while True:\n",
    "        polymer = polymerReaction(polymer)\n",
    "        if polymer == polymerOld:\n",
    "            break\n",
    "        polymerOld = polymer\n",
    "    return len(polymer.strip())"
   ]
  },
  {
   "cell_type": "code",
   "execution_count": 42,
   "metadata": {},
   "outputs": [
    {
     "name": "stdout",
     "output_type": "stream",
     "text": [
      "a: 9786\n",
      "b: 9858\n",
      "c: 9838\n",
      "d: 9914\n",
      "e: 9780\n",
      "f: 9864\n",
      "g: 9814\n",
      "h: 9822\n",
      "i: 9862\n",
      "j: 9830\n",
      "k: 9822\n",
      "l: 6188\n",
      "m: 9888\n",
      "n: 9802\n",
      "o: 9898\n",
      "p: 9894\n",
      "q: 9870\n",
      "r: 9756\n",
      "s: 9838\n",
      "t: 9808\n",
      "u: 9870\n",
      "v: 9786\n",
      "w: 9852\n",
      "x: 9832\n",
      "y: 9804\n",
      "z: 9866\n",
      "6188\n"
     ]
    }
   ],
   "source": [
    "alphabet = 'abcdefghijklmnopqrstuvwxyz'\n",
    "shortest = 10*(10**6)\n",
    "for letter in list(alphabet):\n",
    "    length = polymerReactionLength(polymer, letter)\n",
    "    print(letter + ': ' + str(length))\n",
    "    if length < shortest:\n",
    "        shortest = length\n",
    "print(shortest)"
   ]
  }
 ],
 "metadata": {
  "kernelspec": {
   "display_name": "Python 3",
   "language": "python",
   "name": "python3"
  },
  "language_info": {
   "codemirror_mode": {
    "name": "ipython",
    "version": 3
   },
   "file_extension": ".py",
   "mimetype": "text/x-python",
   "name": "python",
   "nbconvert_exporter": "python",
   "pygments_lexer": "ipython3",
   "version": "3.6.7"
  }
 },
 "nbformat": 4,
 "nbformat_minor": 2
}
