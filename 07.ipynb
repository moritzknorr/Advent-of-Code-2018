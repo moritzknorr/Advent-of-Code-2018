{
 "cells": [
  {
   "cell_type": "code",
   "execution_count": 986,
   "metadata": {},
   "outputs": [],
   "source": [
    "import sys\n",
    "import datetime\n",
    "path = '07_input-test.txt'"
   ]
  },
  {
   "cell_type": "code",
   "execution_count": 987,
   "metadata": {},
   "outputs": [],
   "source": [
    "lines = []\n",
    "with open(path, 'r') as file:\n",
    "    lines = file.read().splitlines()"
   ]
  },
  {
   "cell_type": "code",
   "execution_count": 988,
   "metadata": {},
   "outputs": [],
   "source": [
    "import re\n",
    "regex = r'Step ([A-Z]).*before step ([A-Z]).*can begin.'\n",
    "graph = {}\n",
    "alphabet = []\n",
    "for line in lines:\n",
    "    match = re.search(regex, line)\n",
    "    start = match.group(1)\n",
    "    end = match.group(2)\n",
    "    alphabet.append(start)\n",
    "    alphabet.append(end)\n",
    "    if not(start in graph.keys()):\n",
    "        graph[start] = []\n",
    "    graph[start].append(end)\n",
    "alphabet = list(set(alphabet))\n",
    "count = {}\n",
    "for start, end in graph.items():\n",
    "    graph[start].sort()\n",
    "    for elem in end:\n",
    "        if elem in count.keys():\n",
    "            count[elem] += 1\n",
    "        else:\n",
    "            count[elem] = 1\n",
    "graph = sorted(graph.items())\n",
    "graph = {elem[0]: elem[1] for elem in graph}"
   ]
  },
  {
   "cell_type": "code",
   "execution_count": 989,
   "metadata": {},
   "outputs": [],
   "source": [
    "end = [elem for elem in alphabet if elem not in list(graph.keys())][0]"
   ]
  },
  {
   "cell_type": "code",
   "execution_count": 1001,
   "metadata": {},
   "outputs": [
    {
     "data": {
      "text/plain": [
       "['X', 'E']"
      ]
     },
     "execution_count": 1001,
     "metadata": {},
     "output_type": "execute_result"
    }
   ],
   "source": [
    "sequence = []\n",
    "sequence.append(end)\n",
    "def build_chain(elem):\n",
    "    for start, following in graph.items():\n",
    "        if end in following:\n",
    "            sequence.append(start)\n",
    "    return sequence\n",
    "build_chain(end)"
   ]
  },
  {
   "cell_type": "code",
   "execution_count": 1003,
   "metadata": {},
   "outputs": [
    {
     "data": {
      "text/plain": [
       "['E']"
      ]
     },
     "execution_count": 1003,
     "metadata": {},
     "output_type": "execute_result"
    }
   ],
   "source": [
    "sequence = []\n",
    "build_chain('X')"
   ]
  }
 ],
 "metadata": {
  "kernelspec": {
   "display_name": "Python 3",
   "language": "python",
   "name": "python3"
  },
  "language_info": {
   "codemirror_mode": {
    "name": "ipython",
    "version": 3
   },
   "file_extension": ".py",
   "mimetype": "text/x-python",
   "name": "python",
   "nbconvert_exporter": "python",
   "pygments_lexer": "ipython3",
   "version": "3.6.8"
  }
 },
 "nbformat": 4,
 "nbformat_minor": 2
}
