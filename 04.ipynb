{
 "cells": [
  {
   "cell_type": "code",
   "execution_count": 1,
   "metadata": {},
   "outputs": [],
   "source": [
    "import sys\n",
    "import datetime\n",
    "path = '04_input.txt'"
   ]
  },
  {
   "cell_type": "code",
   "execution_count": 2,
   "metadata": {},
   "outputs": [],
   "source": [
    "with open(path, 'r') as file:\n",
    "    lines = file.read().splitlines()"
   ]
  },
  {
   "cell_type": "code",
   "execution_count": 3,
   "metadata": {},
   "outputs": [],
   "source": [
    "lines.sort()"
   ]
  },
  {
   "cell_type": "code",
   "execution_count": 4,
   "metadata": {},
   "outputs": [],
   "source": [
    "guardSleepCount = {}\n",
    "minuteSleepCount = {}\n",
    "for i in range(0,60):\n",
    "    minuteSleepCount[i] = 0\n",
    "for line in lines:\n",
    "    infos = line.split(' ')\n",
    "    currentAction = infos[2]\n",
    "    currentMinute = infos[1][3:5]\n",
    "    if currentAction == 'Guard':\n",
    "        currentGuard = int(infos[3][1:])\n",
    "    if currentAction == 'falls':\n",
    "        currentSleepcycleStart = int(currentMinute)\n",
    "    if currentAction == 'wakes':\n",
    "        currentSleepcycleEnd = int(currentMinute)\n",
    "        currentSleep = currentSleepcycleEnd-currentSleepcycleStart\n",
    "        if currentGuard not in guardSleepCount.keys():\n",
    "            guardSleepCount[currentGuard] = 0\n",
    "        guardSleepCount[currentGuard] += currentSleep\n",
    "        for i in range(currentSleepcycleStart, currentSleepcycleEnd):\n",
    "            minuteSleepCount[i] += 1"
   ]
  },
  {
   "cell_type": "code",
   "execution_count": 5,
   "metadata": {},
   "outputs": [
    {
     "name": "stdout",
     "output_type": "stream",
     "text": [
      "0  :: 5\n",
      "1  :: 12\n",
      "2  :: 25\n",
      "3  :: 33\n",
      "4  :: 42\n",
      "5  :: 44\n",
      "6  :: 52\n",
      "7  :: 60\n",
      "8  :: 69\n",
      "9  :: 70\n",
      "10  :: 74\n",
      "11  :: 78\n",
      "12  :: 83\n",
      "13  :: 85\n",
      "14  :: 89\n",
      "15  :: 98\n",
      "16  :: 107\n",
      "17  :: 109\n",
      "18  :: 115\n",
      "19  :: 117\n",
      "20  :: 126\n",
      "21  :: 123\n",
      "22  :: 122\n",
      "23  :: 120\n",
      "24  :: 126\n",
      "25  :: 127\n",
      "26  :: 126\n",
      "27  :: 128\n",
      "28  :: 132\n",
      "29  :: 132\n",
      "30  :: 136\n",
      "31  :: 141\n",
      "32  :: 143\n",
      "33  :: 140\n",
      "34  :: 136\n",
      "35  :: 144\n",
      "36  :: 149\n",
      "37  :: 152\n",
      "38  :: 151\n",
      "39  :: 149\n",
      "40  :: 150\n",
      "41  :: 145\n",
      "42  :: 140\n",
      "43  :: 136\n",
      "44  :: 131\n",
      "45  :: 131\n",
      "46  :: 133\n",
      "47  :: 128\n",
      "48  :: 122\n",
      "49  :: 114\n",
      "50  :: 106\n",
      "51  :: 108\n",
      "52  :: 92\n",
      "53  :: 88\n",
      "54  :: 87\n",
      "55  :: 71\n",
      "56  :: 60\n",
      "57  :: 53\n",
      "58  :: 22\n",
      "59  :: 0\n"
     ]
    }
   ],
   "source": [
    "for elem in sorted(minuteSleepCount.items()) :\n",
    "    print(elem[0] , \" ::\" , elem[1] )"
   ]
  }
 ],
 "metadata": {
  "kernelspec": {
   "display_name": "Python 3",
   "language": "python",
   "name": "python3"
  },
  "language_info": {
   "codemirror_mode": {
    "name": "ipython",
    "version": 3
   },
   "file_extension": ".py",
   "mimetype": "text/x-python",
   "name": "python",
   "nbconvert_exporter": "python",
   "pygments_lexer": "ipython3",
   "version": "3.6.7"
  }
 },
 "nbformat": 4,
 "nbformat_minor": 2
}
