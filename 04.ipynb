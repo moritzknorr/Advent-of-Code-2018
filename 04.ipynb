{
 "cells": [
  {
   "cell_type": "code",
   "execution_count": 2,
   "metadata": {},
   "outputs": [],
   "source": [
    "import sys\n",
    "import datetime\n",
    "path = '04_input.txt'"
   ]
  },
  {
   "cell_type": "code",
   "execution_count": 3,
   "metadata": {},
   "outputs": [],
   "source": [
    "lines = []\n",
    "with open(path, 'r') as file:\n",
    "    lines = file.read().splitlines()"
   ]
  },
  {
   "cell_type": "code",
   "execution_count": 4,
   "metadata": {},
   "outputs": [],
   "source": [
    "lines.sort()"
   ]
  },
  {
   "cell_type": "code",
   "execution_count": 22,
   "metadata": {},
   "outputs": [],
   "source": [
    "guardSleepCount = {}\n",
    "minuteSleepCount = {}\n",
    "for i in range(0,60):\n",
    "    minuteSleepCount[i] = 0\n",
    "for line in lines:\n",
    "    infos = line.split(' ')\n",
    "    currentAction = infos[2]\n",
    "    currentMinute = infos[1][3:5]\n",
    "    if currentAction == 'Guard':\n",
    "        currentGuard = int(infos[3][1:])\n",
    "    if currentAction == 'falls':\n",
    "        currentSleepcycleStart = int(currentMinute)\n",
    "    if currentAction == 'wakes':\n",
    "        currentSleepcycleEnd = int(currentMinute)\n",
    "        currentSleep = currentSleepcycleEnd-currentSleepcycleStart\n",
    "        if currentGuard not in guardSleepCount.keys():\n",
    "            guardSleepCount[currentGuard] = {}\n",
    "        for i in range(currentSleepcycleStart, currentSleepcycleEnd):\n",
    "            if i not in guardSleepCount[currentGuard].keys():\n",
    "                guardSleepCount[currentGuard][i] = 0\n",
    "            guardSleepCount[currentGuard][i] += 1"
   ]
  },
  {
   "cell_type": "code",
   "execution_count": 23,
   "metadata": {},
   "outputs": [],
   "source": [
    "guardSleepTotal = {key: sum(elem.values()) for key, elem in guardSleepCount.items()}\n",
    "guardSleepTotal = [(k, guardSleepTotal[k]) for k in sorted(guardSleepTotal, key=guardSleepTotal.get, reverse=True)]"
   ]
  },
  {
   "cell_type": "code",
   "execution_count": 38,
   "metadata": {},
   "outputs": [
    {
     "name": "stdout",
     "output_type": "stream",
     "text": [
      "94040\n"
     ]
    }
   ],
   "source": [
    "guardIdSleepMost = guardSleepTotal[0][0]\n",
    "guardSleepTimes = guardSleepCount[guardIdSleepMost]\n",
    "guardSleepTimes = [(k, guardSleepTimes[k]) for k in sorted(guardSleepTimes, key=guardSleepTimes.get, reverse=True)]\n",
    "guardMinuteSleepMost = guardSleepTimes[0][0]\n",
    "print(guardIdSleepMost*guardMinuteSleepMost)"
   ]
  },
  {
   "cell_type": "code",
   "execution_count": 52,
   "metadata": {},
   "outputs": [
    {
     "name": "stdout",
     "output_type": "stream",
     "text": [
      "39940\n"
     ]
    }
   ],
   "source": [
    "guardMax = 0\n",
    "minuteMax = 0\n",
    "sleepMax = 0\n",
    "for guard, sleep in guardSleepCount.items():\n",
    "    for minute, sleepCount in sleep.items():\n",
    "        if sleepCount > sleepMax:\n",
    "            guardMax = guard\n",
    "            minuteMax = minute\n",
    "            sleepMax = sleepCount\n",
    "print(guardMax*minuteMax)"
   ]
  }
 ],
 "metadata": {
  "kernelspec": {
   "display_name": "Python 3",
   "language": "python",
   "name": "python3"
  },
  "language_info": {
   "codemirror_mode": {
    "name": "ipython",
    "version": 3
   },
   "file_extension": ".py",
   "mimetype": "text/x-python",
   "name": "python",
   "nbconvert_exporter": "python",
   "pygments_lexer": "ipython3",
   "version": "3.6.7"
  }
 },
 "nbformat": 4,
 "nbformat_minor": 2
}
