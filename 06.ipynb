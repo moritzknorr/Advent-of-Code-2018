{
 "cells": [
  {
   "cell_type": "code",
   "execution_count": 1,
   "metadata": {},
   "outputs": [],
   "source": [
    "import sys\n",
    "import datetime\n",
    "path = '06_input.txt'"
   ]
  },
  {
   "cell_type": "code",
   "execution_count": 2,
   "metadata": {},
   "outputs": [],
   "source": [
    "lines = []\n",
    "with open(path, 'r') as file:\n",
    "    lines = file.read().splitlines()\n",
    "lines = {counter: line for counter, line in enumerate(lines)}\n",
    "lines = {'a': '1, 1', 'b': '1, 6', 'c': '8, 3', 'd': '3, 4', 'e':'5, 5', 'f':'8, 9'}"
   ]
  },
  {
   "cell_type": "code",
   "execution_count": 3,
   "metadata": {},
   "outputs": [],
   "source": [
    "def distance(x1, y1, x2, y2):\n",
    "    return abs(x1 - x2) + abs(y1 - y2)"
   ]
  },
  {
   "cell_type": "code",
   "execution_count": 4,
   "metadata": {},
   "outputs": [],
   "source": [
    "def get_lowest_distance(distances):\n",
    "    lowest_point = min(distances, key=distances.get)\n",
    "    lowest_distance = min(distances.values())\n",
    "    if list(distances.values()).count(lowest_distance) != 1:\n",
    "        return '.'\n",
    "    return lowest_point"
   ]
  },
  {
   "cell_type": "code",
   "execution_count": 5,
   "metadata": {},
   "outputs": [],
   "source": [
    "def is_infinite(key):\n",
    "    global x_min, x_max, y_min, y_max, distances\n",
    "    is_infinite = False\n",
    "    for x in range(x_min, x_max+1):\n",
    "        if distances[(x, y_min)] == key or distances[(x, y_max)] == key:\n",
    "            return True\n",
    "    for y in range(y_min, y_max+1):\n",
    "        if distances[(x_min, y)] == key or distances[(x_max, y)] == key:\n",
    "            return True        "
   ]
  },
  {
   "cell_type": "code",
   "execution_count": 6,
   "metadata": {},
   "outputs": [],
   "source": [
    "coordinates = {key: [int(value) for value in coordinate.split(', ')] for key, coordinate in lines.items()}"
   ]
  },
  {
   "cell_type": "code",
   "execution_count": 7,
   "metadata": {},
   "outputs": [],
   "source": [
    "x_min = min([y[0] for y in [x for x in coordinates.values()]])\n",
    "x_max = max([y[0] for y in [x for x in coordinates.values()]])\n",
    "y_min = min([y[1] for y in [x for x in coordinates.values()]])\n",
    "y_max = max([y[1] for y in [x for x in coordinates.values()]])"
   ]
  },
  {
   "cell_type": "code",
   "execution_count": 8,
   "metadata": {
    "scrolled": false
   },
   "outputs": [],
   "source": [
    "matrix = {}\n",
    "for x in range(x_min, x_max+1):\n",
    "    for y in range(y_min, y_max+1):\n",
    "        temp = {}\n",
    "        i=0\n",
    "        for key, coordinate in coordinates.items():\n",
    "            temp[key] = distance(x, y, coordinate[0], coordinate[1])\n",
    "            i+=1\n",
    "        matrix[(x, y)] = temp"
   ]
  },
  {
   "cell_type": "code",
   "execution_count": 9,
   "metadata": {},
   "outputs": [],
   "source": [
    "distances = {coordinate: get_lowest_distance(distance) for coordinate, distance in matrix.items()}"
   ]
  },
  {
   "cell_type": "code",
   "execution_count": 10,
   "metadata": {},
   "outputs": [
    {
     "name": "stdout",
     "output_type": "stream",
     "text": [
      "d: 9\n",
      "e: 17\n",
      "17\n"
     ]
    }
   ],
   "source": [
    "max = 0\n",
    "for key, coordinate in coordinates.items():\n",
    "    if not(is_infinite(key)):\n",
    "        count = list(distances.values()).count(key)\n",
    "        print(str(key) + ': ' + str(count))\n",
    "        if max < count:\n",
    "            max = count\n",
    "print(max)"
   ]
  },
  {
   "cell_type": "code",
   "execution_count": 12,
   "metadata": {},
   "outputs": [
    {
     "name": "stdout",
     "output_type": "stream",
     "text": [
      "16\n"
     ]
    }
   ],
   "source": [
    "matrix_sum = {}\n",
    "value = 0\n",
    "for coordinate, distances in matrix.items():\n",
    "    figure = sum(distances.values())\n",
    "    matrix_sum[coordinate] = figure\n",
    "    if figure < 32:\n",
    "        value += 1\n",
    "print(value)"
   ]
  }
 ],
 "metadata": {
  "kernelspec": {
   "display_name": "Python 3",
   "language": "python",
   "name": "python3"
  },
  "language_info": {
   "codemirror_mode": {
    "name": "ipython",
    "version": 3
   },
   "file_extension": ".py",
   "mimetype": "text/x-python",
   "name": "python",
   "nbconvert_exporter": "python",
   "pygments_lexer": "ipython3",
   "version": "3.6.7"
  }
 },
 "nbformat": 4,
 "nbformat_minor": 2
}
