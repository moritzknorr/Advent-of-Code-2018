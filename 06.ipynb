{
 "cells": [
  {
   "cell_type": "code",
   "execution_count": 1,
   "metadata": {},
   "outputs": [],
   "source": [
    "import sys\n",
    "import datetime\n",
    "path = '06_input.txt'"
   ]
  },
  {
   "cell_type": "code",
   "execution_count": 2,
   "metadata": {},
   "outputs": [],
   "source": [
    "lines = []\n",
    "with open(path, 'r') as file:\n",
    "    lines = file.read().splitlines()\n",
    "lines = {counter: line for counter, line in enumerate(lines)}\n",
    "#lines = {'a': '1, 1', 'b': '1, 6', 'c': '8, 3', 'd': '3, 4', 'e':'5, 5', 'f':'8, 9'}"
   ]
  },
  {
   "cell_type": "code",
   "execution_count": 3,
   "metadata": {},
   "outputs": [],
   "source": [
    "def distance(x1, y1, x2, y2):\n",
    "    return abs(x1 - x2) + abs(y1 - y2)"
   ]
  },
  {
   "cell_type": "code",
   "execution_count": 4,
   "metadata": {},
   "outputs": [],
   "source": [
    "def get_lowest_distance(distances):\n",
    "    lowest_point = min(distances, key=distances.get)\n",
    "    lowest_distance = min(distances.values())\n",
    "    if list(distances.values()).count(lowest_distance) != 1:\n",
    "        return '.'\n",
    "    return lowest_point"
   ]
  },
  {
   "cell_type": "code",
   "execution_count": 5,
   "metadata": {},
   "outputs": [],
   "source": [
    "def is_infinite(coordinate):\n",
    "    global x_min, x_max, y_min, y_max\n",
    "    if coordinate[0] == x_min or coordinate[0] == x_max or \\\n",
    "        coordinate[1] == y_min or coordinate[1] == y_max:\n",
    "        return True\n",
    "    return False"
   ]
  },
  {
   "cell_type": "code",
   "execution_count": 6,
   "metadata": {},
   "outputs": [],
   "source": [
    "coordinates = {key: [int(value) for value in coordinate.split(', ')] for key, coordinate in lines.items()}"
   ]
  },
  {
   "cell_type": "code",
   "execution_count": 7,
   "metadata": {},
   "outputs": [],
   "source": [
    "x_min = min([y[0] for y in [x for x in coordinates.values()]])\n",
    "x_max = max([y[0] for y in [x for x in coordinates.values()]])\n",
    "y_min = min([y[1] for y in [x for x in coordinates.values()]])\n",
    "y_max = max([y[1] for y in [x for x in coordinates.values()]])"
   ]
  },
  {
   "cell_type": "code",
   "execution_count": 8,
   "metadata": {
    "scrolled": false
   },
   "outputs": [],
   "source": [
    "matrix = {}\n",
    "for x in range(x_min, x_max+1):\n",
    "    for y in range(y_min, y_max+1):\n",
    "        temp = {}\n",
    "        i=0\n",
    "        for key, coordinate in coordinates.items():\n",
    "            temp[key] = distance(x, y, coordinate[0], coordinate[1])\n",
    "            i+=1\n",
    "        matrix[(x, y)] = temp"
   ]
  },
  {
   "cell_type": "code",
   "execution_count": 9,
   "metadata": {},
   "outputs": [],
   "source": [
    "distances = [get_lowest_distance(distance) for distance in matrix.values()]"
   ]
  },
  {
   "cell_type": "code",
   "execution_count": 10,
   "metadata": {},
   "outputs": [
    {
     "name": "stdout",
     "output_type": "stream",
     "text": [
      "0: 351\n",
      "1: 1410\n",
      "2: 2152\n",
      "3: 2423\n",
      "4: 1651\n",
      "5: 2276\n",
      "6: 1837\n",
      "7: 1525\n",
      "8: 657\n",
      "9: 1626\n",
      "10: 977\n",
      "11: 2238\n",
      "13: 971\n",
      "14: 957\n",
      "16: 2977\n",
      "17: 2223\n",
      "18: 3902\n",
      "19: 2158\n",
      "20: 2057\n",
      "21: 3229\n",
      "22: 2212\n",
      "23: 1561\n",
      "24: 3335\n",
      "25: 917\n",
      "26: 1465\n",
      "27: 1966\n",
      "28: 1912\n",
      "30: 683\n",
      "31: 3116\n",
      "32: 1154\n",
      "33: 2572\n",
      "34: 1801\n",
      "35: 890\n",
      "36: 1111\n",
      "37: 1014\n",
      "38: 2223\n",
      "39: 1319\n",
      "40: 1677\n",
      "41: 3505\n",
      "42: 1027\n",
      "44: 1003\n",
      "45: 1696\n",
      "46: 3569\n",
      "47: 1052\n",
      "48: 1480\n",
      "49: 3485\n"
     ]
    }
   ],
   "source": [
    "for key, coordinate in coordinates.items():\n",
    "    if not(is_infinite(coordinate)):\n",
    "        print(str(key) + ': ' + str(distances.count(key)))"
   ]
  }
 ],
 "metadata": {
  "kernelspec": {
   "display_name": "Python 3",
   "language": "python",
   "name": "python3"
  },
  "language_info": {
   "codemirror_mode": {
    "name": "ipython",
    "version": 3
   },
   "file_extension": ".py",
   "mimetype": "text/x-python",
   "name": "python",
   "nbconvert_exporter": "python",
   "pygments_lexer": "ipython3",
   "version": "3.6.7"
  }
 },
 "nbformat": 4,
 "nbformat_minor": 2
}
