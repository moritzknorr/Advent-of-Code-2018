{
 "cells": [
  {
   "cell_type": "code",
   "execution_count": 1,
   "metadata": {},
   "outputs": [],
   "source": [
    "import sys\n",
    "import datetime\n",
    "path = '06_input.txt'"
   ]
  },
  {
   "cell_type": "code",
   "execution_count": 2,
   "metadata": {},
   "outputs": [],
   "source": [
    "lines = []\n",
    "with open(path, 'r') as file:\n",
    "    lines = file.read().splitlines()"
   ]
  },
  {
   "cell_type": "code",
   "execution_count": 3,
   "metadata": {},
   "outputs": [],
   "source": [
    "def distance(x1, y1, x2, y2):\n",
    "    return abs(x1 - x2) + abs(y1 - y2)"
   ]
  },
  {
   "cell_type": "code",
   "execution_count": 4,
   "metadata": {},
   "outputs": [],
   "source": [
    "def get_lowest_distance(distances):\n",
    "    lowest_point = min(distances, key=distances.get)\n",
    "    lowest_distance = min(distances.values())\n",
    "    if list(distances.values()).count(lowest_distance) != 1:\n",
    "        return '.'\n",
    "    return lowest_point"
   ]
  },
  {
   "cell_type": "code",
   "execution_count": 5,
   "metadata": {},
   "outputs": [],
   "source": [
    "#lines = {'a': '1, 1', 'b': '1, 6', 'c': '8, 3', 'd': '3, 4', 'e':'5, 5', 'f':'8, 9'}"
   ]
  },
  {
   "cell_type": "code",
   "execution_count": 6,
   "metadata": {},
   "outputs": [],
   "source": [
    "lines = {counter: line for counter, line in enumerate(lines)}"
   ]
  },
  {
   "cell_type": "code",
   "execution_count": 13,
   "metadata": {},
   "outputs": [],
   "source": [
    "coordinates = [x.split(', ') for x in lines.values()]\n",
    "coordinates = [[int(y) for y in x] for x in coordinates]"
   ]
  },
  {
   "cell_type": "code",
   "execution_count": 14,
   "metadata": {},
   "outputs": [],
   "source": [
    "x_min = min([y[0] for y in [x for x in coordinates]])\n",
    "x_max = max([y[0] for y in [x for x in coordinates]])\n",
    "y_min = min([y[1] for y in [x for x in coordinates]])\n",
    "y_max = max([y[1] for y in [x for x in coordinates]])"
   ]
  },
  {
   "cell_type": "code",
   "execution_count": null,
   "metadata": {
    "scrolled": false
   },
   "outputs": [],
   "source": [
    "matrix = {}\n",
    "for x in range(x_min, x_max+1):\n",
    "    for y in range(y_min, y_max+1):\n",
    "        temp = {}\n",
    "        i=0\n",
    "        for coordinate in coordinates:\n",
    "            key = list(lines.keys())[i]\n",
    "            temp[key] = distance(x, y, coordinate[0], coordinate[1])\n",
    "            i+=1\n",
    "        matrix[(x, y)] = temp"
   ]
  },
  {
   "cell_type": "code",
   "execution_count": null,
   "metadata": {},
   "outputs": [],
   "source": [
    "distances = [get_lowest_distance(distance) for distance in matrix.values()]"
   ]
  },
  {
   "cell_type": "code",
   "execution_count": null,
   "metadata": {},
   "outputs": [],
   "source": [
    "for each in set(distances):\n",
    "    print(each + ': ' + str(distances.count(each)))"
   ]
  }
 ],
 "metadata": {
  "kernelspec": {
   "display_name": "Python 3",
   "language": "python",
   "name": "python3"
  },
  "language_info": {
   "codemirror_mode": {
    "name": "ipython",
    "version": 3
   },
   "file_extension": ".py",
   "mimetype": "text/x-python",
   "name": "python",
   "nbconvert_exporter": "python",
   "pygments_lexer": "ipython3",
   "version": "3.6.7"
  }
 },
 "nbformat": 4,
 "nbformat_minor": 2
}
