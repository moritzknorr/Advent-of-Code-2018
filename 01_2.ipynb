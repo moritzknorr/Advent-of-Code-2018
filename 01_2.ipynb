{
 "cells": [
  {
   "cell_type": "code",
   "execution_count": 1,
   "metadata": {},
   "outputs": [],
   "source": [
    "path = '01_1_input.txt'"
   ]
  },
  {
   "cell_type": "code",
   "execution_count": null,
   "metadata": {},
   "outputs": [],
   "source": [
    "file = open(path, 'r')\n",
    "freq = 0\n",
    "sums = []\n",
    "while True:\n",
    "    for line in file:\n",
    "        line = line.replace(\"\\n\", '')\n",
    "        operator = line[:1]\n",
    "        number = line[1:]\n",
    "        if operator == '+':\n",
    "            freq += int(number)\n",
    "        elif operator == '-':\n",
    "            freq -=int(number)\n",
    "        else:\n",
    "            sys.exit(0)\n",
    "        if freq in sums:\n",
    "            print(freq)\n",
    "            sys.exit(0)\n",
    "        else:\n",
    "            sums.append(sum)\n",
    "    file.seek(0)"
   ]
  },
  {
   "cell_type": "code",
   "execution_count": null,
   "metadata": {},
   "outputs": [],
   "source": [
    "print(sums)"
   ]
  }
 ],
 "metadata": {
  "kernelspec": {
   "display_name": "Python 3",
   "language": "python",
   "name": "python3"
  },
  "language_info": {
   "codemirror_mode": {
    "name": "ipython",
    "version": 3
   },
   "file_extension": ".py",
   "mimetype": "text/x-python",
   "name": "python",
   "nbconvert_exporter": "python",
   "pygments_lexer": "ipython3",
   "version": "3.6.7"
  }
 },
 "nbformat": 4,
 "nbformat_minor": 2
}
