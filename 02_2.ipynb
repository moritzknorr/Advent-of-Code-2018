{
 "cells": [
  {
   "cell_type": "code",
   "execution_count": 1,
   "metadata": {},
   "outputs": [],
   "source": [
    "import sys\n",
    "path = '01_2_input.txt'"
   ]
  },
  {
   "cell_type": "code",
   "execution_count": 2,
   "metadata": {},
   "outputs": [],
   "source": [
    "def difference(tuple):\n",
    "    length = len(tuple[0])\n",
    "    countDifferences = 0\n",
    "    for i in range(0, length):\n",
    "        if tuple[0][i] != tuple[1][i]:\n",
    "            countDifferences += 1\n",
    "    return countDifferences"
   ]
  },
  {
   "cell_type": "code",
   "execution_count": 3,
   "metadata": {},
   "outputs": [],
   "source": [
    "with open(path, 'r') as file:\n",
    "    lines = file.read().splitlines()"
   ]
  },
  {
   "cell_type": "code",
   "execution_count": 4,
   "metadata": {
    "scrolled": true
   },
   "outputs": [],
   "source": [
    "tuples = []\n",
    "for linea in lines:\n",
    "    for lineb in lines:\n",
    "        tuples.append((linea, lineb))"
   ]
  },
  {
   "cell_type": "code",
   "execution_count": 5,
   "metadata": {},
   "outputs": [
    {
     "name": "stdout",
     "output_type": "stream",
     "text": [
      "('rtehotyxzbodglnpkudawhijsc', 'rtefotyxzbodglnpkudawhijsc')\n",
      "('rtefotyxzbodglnpkudawhijsc', 'rtehotyxzbodglnpkudawhijsc')\n"
     ]
    }
   ],
   "source": [
    "for tuple in tuples:\n",
    "    if difference(tuple) == 1:\n",
    "        print(tuple)"
   ]
  }
 ],
 "metadata": {
  "kernelspec": {
   "display_name": "Python 3",
   "language": "python",
   "name": "python3"
  },
  "language_info": {
   "codemirror_mode": {
    "name": "ipython",
    "version": 3
   },
   "file_extension": ".py",
   "mimetype": "text/x-python",
   "name": "python",
   "nbconvert_exporter": "python",
   "pygments_lexer": "ipython3",
   "version": "3.6.7"
  }
 },
 "nbformat": 4,
 "nbformat_minor": 2
}
